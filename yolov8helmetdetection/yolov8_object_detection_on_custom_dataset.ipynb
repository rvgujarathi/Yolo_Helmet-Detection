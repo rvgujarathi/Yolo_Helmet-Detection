{
 "cells": [
  {
   "cell_type": "code",
   "execution_count": 1,
   "metadata": {
    "colab": {
     "base_uri": "https://localhost:8080/"
    },
    "executionInfo": {
     "elapsed": 2,
     "status": "ok",
     "timestamp": 1680486210312,
     "user": {
      "displayName": "Freedom Tech",
      "userId": "03870511654783100627"
     },
     "user_tz": -330
    },
    "id": "CjpPg4mGKc1v",
    "outputId": "1c05430b-239f-47f7-f245-625a4b2a1633"
   },
   "outputs": [
    {
     "name": "stdout",
     "output_type": "stream",
     "text": [
      "c:\\Users\\rguja\\OneDrive\\Desktop\\Helmet detection\\yolov8helmetdetection\n"
     ]
    }
   ],
   "source": [
    "import os\n",
    "HOME = os.getcwd()\n",
    "print(HOME)"
   ]
  },
  {
   "cell_type": "markdown",
   "metadata": {
    "id": "3C3EO_2zNChu"
   },
   "source": [
    "## Install YOLOv8\n",
    "\n",
    "⚠️ YOLOv8 is still under heavy development. Breaking changes are being introduced almost weekly. We strive to make our YOLOv8 notebooks work with the latest version of the library. Last tests took place on **27.01.2023** with version **YOLOv8.0.20**.\n",
    "\n",
    "If you notice that our notebook behaves incorrectly - especially if you experience errors that prevent you from going through the tutorial - don't hesitate! Let us know and open an [issue](https://github.com/roboflow/notebooks/issues) on the Roboflow Notebooks repository.\n",
    "\n",
    "YOLOv8 can be installed in two ways - from the source and via pip. This is because it is the first iteration of YOLO to have an official package."
   ]
  },
  {
   "cell_type": "code",
   "execution_count": 2,
   "metadata": {
    "colab": {
     "base_uri": "https://localhost:8080/"
    },
    "executionInfo": {
     "elapsed": 13719,
     "status": "ok",
     "timestamp": 1680486228593,
     "user": {
      "displayName": "Freedom Tech",
      "userId": "03870511654783100627"
     },
     "user_tz": -330
    },
    "id": "tdSMcABDNKW-",
    "outputId": "ac19ae99-e76c-4e4e-fd4b-d7f2f460490c"
   },
   "outputs": [
    {
     "name": "stdout",
     "output_type": "stream",
     "text": [
      "Ultralytics 8.3.0  Python-3.12.4 torch-2.4.1+cpu CPU (AMD Ryzen 7 6800HS with Radeon Graphics)\n",
      "Setup complete  (16 CPUs, 15.2 GB RAM, 671.0/930.6 GB disk)\n"
     ]
    }
   ],
   "source": [
    "# Pip install method (recommended)\n",
    "\n",
    "!pip install ultralytics==8.0.20\n",
    "\n",
    "from IPython import display\n",
    "display.clear_output()\n",
    "\n",
    "import ultralytics\n",
    "ultralytics.checks()"
   ]
  },
  {
   "cell_type": "code",
   "execution_count": 3,
   "metadata": {
    "id": "iVvaIYEEPOty"
   },
   "outputs": [],
   "source": [
    "# Git clone method (for development)\n",
    "\n",
    "# %cd {HOME}\n",
    "# !git clone github.com/ultralytics/ultralytics\n",
    "# %cd {HOME}/ultralytics\n",
    "# !pip install -qe ultralytics\n",
    "\n",
    "# from IPython import display\n",
    "# display.clear_output()\n",
    "\n",
    "# import ultralytics\n",
    "# ultralytics.checks()"
   ]
  },
  {
   "cell_type": "code",
   "execution_count": 8,
   "metadata": {
    "executionInfo": {
     "elapsed": 2,
     "status": "ok",
     "timestamp": 1680486232623,
     "user": {
      "displayName": "Freedom Tech",
      "userId": "03870511654783100627"
     },
     "user_tz": -330
    },
    "id": "VOEYrlBoP9-E"
   },
   "outputs": [],
   "source": [
    "from ultralytics import YOLO\n",
    "\n",
    "from IPython.display import display, Image"
   ]
  },
  {
   "cell_type": "markdown",
   "metadata": {
    "id": "HnnZSm5OQfPQ"
   },
   "source": [
    "## CLI Basics "
   ]
  },
  {
   "cell_type": "markdown",
   "metadata": {
    "id": "K33S7zlkQku0"
   },
   "source": [
    "If you want to train, validate or run inference on models and don't need to make any modifications to the code, using YOLO command line interface is the easiest way to get started. Read more about CLI in [Ultralytics YOLO Docs](https://v8docs.ultralytics.com/cli/).\n",
    "\n",
    "```\n",
    "yolo task=detect    mode=train    model=yolov8n.yaml      args...\n",
    "          classify       predict        yolov8n-cls.yaml  args...\n",
    "          segment        val            yolov8n-seg.yaml  args...\n",
    "                         export         yolov8n.pt        format=onnx  args...\n",
    "```"
   ]
  },
  {
   "cell_type": "markdown",
   "metadata": {
    "id": "s5RGYA6sPgEd"
   },
   "source": [
    "## Inference with Pre-trained COCO Model"
   ]
  },
  {
   "cell_type": "markdown",
   "metadata": {
    "id": "fT1qD4toTTw0"
   },
   "source": [
    "### 💻 CLI"
   ]
  },
  {
   "cell_type": "markdown",
   "metadata": {
    "id": "ZaE1kLS8R4CV"
   },
   "source": [
    "`yolo mode=predict` runs YOLOv8 inference on a variety of sources, downloading models automatically from the latest YOLOv8 release, and saving results to `runs/predict`."
   ]
  },
  {
   "cell_type": "code",
   "execution_count": 5,
   "metadata": {
    "colab": {
     "base_uri": "https://localhost:8080/"
    },
    "executionInfo": {
     "elapsed": 18219,
     "status": "ok",
     "timestamp": 1680486255682,
     "user": {
      "displayName": "Freedom Tech",
      "userId": "03870511654783100627"
     },
     "user_tz": -330
    },
    "id": "FDbMt_M6PiXb",
    "outputId": "21c73034-8024-4b69-fa5d-31355f7b5385"
   },
   "outputs": [
    {
     "name": "stdout",
     "output_type": "stream",
     "text": [
      "c:\\Users\\rguja\\OneDrive\\Desktop\\Helmet detection\\yolov8helmetdetection\n"
     ]
    },
    {
     "name": "stderr",
     "output_type": "stream",
     "text": [
      "C:\\Users\\rguja\\AppData\\Roaming\\Python\\Python312\\site-packages\\IPython\\core\\magics\\osm.py:417: UserWarning: This is now an optional IPython functionality, setting dhist requires you to install the `pickleshare` library.\n",
      "  self.shell.db['dhist'] = compress_dhist(dhist)[-100:]\n"
     ]
    },
    {
     "name": "stdout",
     "output_type": "stream",
     "text": [
      "Downloading https://github.com/ultralytics/assets/releases/download/v8.3.0/yolov8n.pt to 'yolov8n.pt'...\n",
      "Ultralytics 8.3.0 🚀 Python-3.12.4 torch-2.4.1+cpu CPU (AMD Ryzen 7 6800HS with Radeon Graphics)\n",
      "YOLOv8n summary (fused): 168 layers, 3,151,904 parameters, 0 gradients, 8.7 GFLOPs\n",
      "\n",
      "Downloading https://media.roboflow.com/notebooks/examples/dog.jpeg to 'dog.jpeg'...\n",
      "image 1/1 c:\\Users\\rguja\\OneDrive\\Desktop\\Helmet detection\\yolov8helmetdetection\\dog.jpeg: 640x384 1 person, 1 car, 1 dog, 76.1ms\n",
      "Speed: 4.0ms preprocess, 76.1ms inference, 9.8ms postprocess per image at shape (1, 3, 640, 384)\n",
      "Results saved to \u001b[1mruns\\detect\\predict\u001b[0m\n",
      "💡 Learn more at https://docs.ultralytics.com/modes/predict\n"
     ]
    },
    {
     "name": "stderr",
     "output_type": "stream",
     "text": [
      "\n",
      "  0%|          | 0.00/6.25M [00:00<?, ?B/s]\n",
      " 10%|█         | 640k/6.25M [00:00<00:01, 5.20MB/s]\n",
      " 30%|███       | 1.88M/6.25M [00:00<00:00, 9.20MB/s]\n",
      " 46%|████▌     | 2.88M/6.25M [00:00<00:00, 6.66MB/s]\n",
      " 60%|██████    | 3.75M/6.25M [00:00<00:00, 7.37MB/s]\n",
      " 74%|███████▍  | 4.62M/6.25M [00:00<00:00, 6.99MB/s]\n",
      " 86%|████████▌ | 5.38M/6.25M [00:00<00:00, 6.70MB/s]\n",
      " 98%|█████████▊| 6.12M/6.25M [00:00<00:00, 6.14MB/s]\n",
      "100%|██████████| 6.25M/6.25M [00:00<00:00, 6.66MB/s]\n",
      "\n",
      "  0%|          | 0.00/104k [00:00<?, ?B/s]\n",
      "100%|██████████| 104k/104k [00:00<00:00, 3.80MB/s]\n"
     ]
    }
   ],
   "source": [
    "%cd {HOME}\n",
    "!yolo task=detect mode=predict model=yolov8n.pt conf=0.25 source='https://media.roboflow.com/notebooks/examples/dog.jpeg' save=True"
   ]
  },
  {
   "cell_type": "code",
   "execution_count": 6,
   "metadata": {
    "colab": {
     "base_uri": "https://localhost:8080/"
    },
    "executionInfo": {
     "elapsed": 3279,
     "status": "ok",
     "timestamp": 1680486393731,
     "user": {
      "displayName": "Freedom Tech",
      "userId": "03870511654783100627"
     },
     "user_tz": -330
    },
    "id": "Jze57H3ayc6b",
    "outputId": "5e76ec23-0048-4610-aca6-09fb89b8d06d"
   },
   "outputs": [
    {
     "ename": "ModuleNotFoundError",
     "evalue": "No module named 'google.colab'",
     "output_type": "error",
     "traceback": [
      "\u001b[1;31m---------------------------------------------------------------------------\u001b[0m",
      "\u001b[1;31mModuleNotFoundError\u001b[0m                       Traceback (most recent call last)",
      "Cell \u001b[1;32mIn[6], line 1\u001b[0m\n\u001b[1;32m----> 1\u001b[0m \u001b[38;5;28;01mfrom\u001b[39;00m \u001b[38;5;21;01mgoogle\u001b[39;00m\u001b[38;5;21;01m.\u001b[39;00m\u001b[38;5;21;01mcolab\u001b[39;00m \u001b[38;5;28;01mimport\u001b[39;00m drive\n\u001b[0;32m      2\u001b[0m drive\u001b[38;5;241m.\u001b[39mmount(\u001b[38;5;124m'\u001b[39m\u001b[38;5;124m/content/gdrive\u001b[39m\u001b[38;5;124m'\u001b[39m)\n\u001b[0;32m      3\u001b[0m get_ipython()\u001b[38;5;241m.\u001b[39msystem(\u001b[38;5;124m'\u001b[39m\u001b[38;5;124mln -s /content/gdrive/My\u001b[39m\u001b[38;5;130;01m\\\\\u001b[39;00m\u001b[38;5;124m Drive/ /mydrive\u001b[39m\u001b[38;5;124m'\u001b[39m)\n",
      "\u001b[1;31mModuleNotFoundError\u001b[0m: No module named 'google.colab'"
     ]
    }
   ],
   "source": [
    "from google.colab import drive\n",
    "drive.mount('/content/gdrive')\n",
    "!ln -s /content/gdrive/My\\ Drive/ /mydrive\n",
    "!ls /mydrive\n",
    "\n"
   ]
  },
  {
   "cell_type": "code",
   "execution_count": 7,
   "metadata": {
    "colab": {
     "base_uri": "https://localhost:8080/"
    },
    "executionInfo": {
     "elapsed": 3394,
     "status": "ok",
     "timestamp": 1680486423482,
     "user": {
      "displayName": "Freedom Tech",
      "userId": "03870511654783100627"
     },
     "user_tz": -330
    },
    "id": "BSd93ZJzZZKt",
    "outputId": "d168d08c-11d3-455c-b203-2d8d3a2aa647"
   },
   "outputs": [
    {
     "name": "stdout",
     "output_type": "stream",
     "text": [
      "/content/datasets\n",
      "Archive:  /content/gdrive/MyDrive/freedomtech.zip\n",
      "   creating: freedomtech/\n",
      "   creating: freedomtech/images/\n",
      "   creating: freedomtech/images/training/\n",
      "  inflating: freedomtech/images/training/surfing_1.jpg  \n",
      "  inflating: freedomtech/images/training/surfing_1.txt  \n",
      "  inflating: freedomtech/images/training/surfing_10.jpg  \n",
      "  inflating: freedomtech/images/training/surfing_10.txt  \n",
      "  inflating: freedomtech/images/training/surfing_11.jpg  \n",
      "  inflating: freedomtech/images/training/surfing_11.txt  \n",
      "  inflating: freedomtech/images/training/surfing_12.jpg  \n",
      "  inflating: freedomtech/images/training/surfing_12.txt  \n",
      "  inflating: freedomtech/images/training/surfing_13.jpg  \n",
      "  inflating: freedomtech/images/training/surfing_13.txt  \n",
      "  inflating: freedomtech/images/training/surfing_14.jpg  \n",
      "  inflating: freedomtech/images/training/surfing_14.txt  \n",
      "  inflating: freedomtech/images/training/surfing_15.jpg  \n",
      "  inflating: freedomtech/images/training/surfing_15.txt  \n",
      "  inflating: freedomtech/images/training/surfing_16.jpg  \n",
      "  inflating: freedomtech/images/training/surfing_16.txt  \n",
      "  inflating: freedomtech/images/training/surfing_17.jpg  \n",
      "  inflating: freedomtech/images/training/surfing_17.txt  \n",
      "  inflating: freedomtech/images/training/surfing_18.jpg  \n",
      "  inflating: freedomtech/images/training/surfing_18.txt  \n",
      "  inflating: freedomtech/images/training/surfing_19.jpg  \n",
      "  inflating: freedomtech/images/training/surfing_19.txt  \n",
      "  inflating: freedomtech/images/training/surfing_2.jpg  \n",
      "  inflating: freedomtech/images/training/surfing_2.txt  \n",
      "  inflating: freedomtech/images/training/surfing_20.jpg  \n",
      "  inflating: freedomtech/images/training/surfing_20.txt  \n",
      "  inflating: freedomtech/images/training/surfing_21.jpg  \n",
      "  inflating: freedomtech/images/training/surfing_21.txt  \n",
      "  inflating: freedomtech/images/training/surfing_22.jpg  \n",
      "  inflating: freedomtech/images/training/surfing_22.txt  \n",
      "  inflating: freedomtech/images/training/surfing_23.jpg  \n",
      "  inflating: freedomtech/images/training/surfing_23.txt  \n",
      "  inflating: freedomtech/images/training/surfing_24.jpg  \n",
      "  inflating: freedomtech/images/training/surfing_24.txt  \n",
      "  inflating: freedomtech/images/training/surfing_25.jpg  \n",
      "  inflating: freedomtech/images/training/surfing_25.txt  \n",
      "  inflating: freedomtech/images/training/surfing_26.jpg  \n",
      "  inflating: freedomtech/images/training/surfing_26.txt  \n",
      "  inflating: freedomtech/images/training/surfing_27.jpg  \n",
      "  inflating: freedomtech/images/training/surfing_27.txt  \n",
      "  inflating: freedomtech/images/training/surfing_28.jpg  \n",
      "  inflating: freedomtech/images/training/surfing_28.txt  \n",
      "  inflating: freedomtech/images/training/surfing_29.jpg  \n",
      "  inflating: freedomtech/images/training/surfing_29.txt  \n",
      "  inflating: freedomtech/images/training/surfing_3.jpg  \n",
      "  inflating: freedomtech/images/training/surfing_3.txt  \n",
      "  inflating: freedomtech/images/training/surfing_30.jpg  \n",
      "  inflating: freedomtech/images/training/surfing_30.txt  \n",
      "  inflating: freedomtech/images/training/surfing_31.jpg  \n",
      "  inflating: freedomtech/images/training/surfing_31.txt  \n",
      "  inflating: freedomtech/images/training/surfing_32.jpg  \n",
      "  inflating: freedomtech/images/training/surfing_32.txt  \n",
      "  inflating: freedomtech/images/training/surfing_33.jpg  \n",
      "  inflating: freedomtech/images/training/surfing_33.txt  \n",
      "  inflating: freedomtech/images/training/surfing_34.jpg  \n",
      "  inflating: freedomtech/images/training/surfing_34.txt  \n",
      "  inflating: freedomtech/images/training/surfing_35.jpg  \n",
      "  inflating: freedomtech/images/training/surfing_35.txt  \n",
      "  inflating: freedomtech/images/training/surfing_36.jpg  \n",
      "  inflating: freedomtech/images/training/surfing_36.txt  \n",
      "  inflating: freedomtech/images/training/surfing_37.jpg  \n",
      "  inflating: freedomtech/images/training/surfing_37.txt  \n",
      "  inflating: freedomtech/images/training/surfing_38.jpg  \n",
      "  inflating: freedomtech/images/training/surfing_38.txt  \n",
      "  inflating: freedomtech/images/training/surfing_39.jpg  \n",
      "  inflating: freedomtech/images/training/surfing_39.txt  \n",
      "  inflating: freedomtech/images/training/surfing_4.jpg  \n",
      "  inflating: freedomtech/images/training/surfing_4.txt  \n",
      "  inflating: freedomtech/images/training/surfing_40.jpg  \n",
      "  inflating: freedomtech/images/training/surfing_40.txt  \n",
      "  inflating: freedomtech/images/training/surfing_41.jpg  \n",
      "  inflating: freedomtech/images/training/surfing_41.txt  \n",
      "  inflating: freedomtech/images/training/surfing_42.jpg  \n",
      "  inflating: freedomtech/images/training/surfing_42.txt  \n",
      "  inflating: freedomtech/images/training/surfing_43.jpg  \n",
      "  inflating: freedomtech/images/training/surfing_43.txt  \n",
      "  inflating: freedomtech/images/training/surfing_44.jpg  \n",
      "  inflating: freedomtech/images/training/surfing_44.txt  \n",
      "  inflating: freedomtech/images/training/surfing_5.jpg  \n",
      "  inflating: freedomtech/images/training/surfing_5.txt  \n",
      "  inflating: freedomtech/images/training/surfing_6.jpg  \n",
      "  inflating: freedomtech/images/training/surfing_6.txt  \n",
      "  inflating: freedomtech/images/training/surfing_7.jpg  \n",
      "  inflating: freedomtech/images/training/surfing_7.txt  \n",
      "  inflating: freedomtech/images/training/surfing_8.jpg  \n",
      "  inflating: freedomtech/images/training/surfing_8.txt  \n",
      "  inflating: freedomtech/images/training/surfing_9.jpg  \n",
      "  inflating: freedomtech/images/training/surfing_9.txt  \n",
      "   creating: freedomtech/images/validation/\n",
      "  inflating: freedomtech/images/validation/surfing_1.jpg  \n",
      "  inflating: freedomtech/images/validation/surfing_1.txt  \n",
      "  inflating: freedomtech/images/validation/surfing_10.jpg  \n",
      "  inflating: freedomtech/images/validation/surfing_10.txt  \n",
      "  inflating: freedomtech/images/validation/surfing_11.jpg  \n",
      "  inflating: freedomtech/images/validation/surfing_11.txt  \n",
      "  inflating: freedomtech/images/validation/surfing_12.jpg  \n",
      "  inflating: freedomtech/images/validation/surfing_12.txt  \n",
      "  inflating: freedomtech/images/validation/surfing_13.jpg  \n",
      "  inflating: freedomtech/images/validation/surfing_13.txt  \n",
      "  inflating: freedomtech/images/validation/surfing_14.jpg  \n",
      "  inflating: freedomtech/images/validation/surfing_14.txt  \n",
      "  inflating: freedomtech/images/validation/surfing_15.jpg  \n",
      "  inflating: freedomtech/images/validation/surfing_15.txt  \n",
      "  inflating: freedomtech/images/validation/surfing_16.jpg  \n",
      "  inflating: freedomtech/images/validation/surfing_16.txt  \n",
      "  inflating: freedomtech/images/validation/surfing_17.jpg  \n",
      "  inflating: freedomtech/images/validation/surfing_17.txt  \n",
      "  inflating: freedomtech/images/validation/surfing_18.jpg  \n",
      "  inflating: freedomtech/images/validation/surfing_18.txt  \n",
      "  inflating: freedomtech/images/validation/surfing_19.jpg  \n",
      "  inflating: freedomtech/images/validation/surfing_19.txt  \n",
      "  inflating: freedomtech/images/validation/surfing_2.jpg  \n",
      "  inflating: freedomtech/images/validation/surfing_2.txt  \n",
      "  inflating: freedomtech/images/validation/surfing_20.jpg  \n",
      "  inflating: freedomtech/images/validation/surfing_20.txt  \n",
      "  inflating: freedomtech/images/validation/surfing_21.jpg  \n",
      "  inflating: freedomtech/images/validation/surfing_21.txt  \n",
      "  inflating: freedomtech/images/validation/surfing_22.jpg  \n",
      "  inflating: freedomtech/images/validation/surfing_22.txt  \n",
      "  inflating: freedomtech/images/validation/surfing_23.jpg  \n",
      "  inflating: freedomtech/images/validation/surfing_23.txt  \n",
      "  inflating: freedomtech/images/validation/surfing_24.jpg  \n",
      "  inflating: freedomtech/images/validation/surfing_24.txt  \n",
      "  inflating: freedomtech/images/validation/surfing_25.jpg  \n",
      "  inflating: freedomtech/images/validation/surfing_25.txt  \n",
      "  inflating: freedomtech/images/validation/surfing_26.jpg  \n",
      "  inflating: freedomtech/images/validation/surfing_26.txt  \n",
      "  inflating: freedomtech/images/validation/surfing_27.jpg  \n",
      "  inflating: freedomtech/images/validation/surfing_27.txt  \n",
      "  inflating: freedomtech/images/validation/surfing_28.jpg  \n",
      "  inflating: freedomtech/images/validation/surfing_28.txt  \n",
      "  inflating: freedomtech/images/validation/surfing_29.jpg  \n",
      "  inflating: freedomtech/images/validation/surfing_29.txt  \n",
      "  inflating: freedomtech/images/validation/surfing_3.jpg  \n",
      "  inflating: freedomtech/images/validation/surfing_3.txt  \n",
      "  inflating: freedomtech/images/validation/surfing_30.jpg  \n",
      "  inflating: freedomtech/images/validation/surfing_30.txt  \n",
      "  inflating: freedomtech/images/validation/surfing_31.jpg  \n",
      "  inflating: freedomtech/images/validation/surfing_31.txt  \n",
      "  inflating: freedomtech/images/validation/surfing_32.jpg  \n",
      "  inflating: freedomtech/images/validation/surfing_32.txt  \n",
      "  inflating: freedomtech/images/validation/surfing_33.jpg  \n",
      "  inflating: freedomtech/images/validation/surfing_33.txt  \n",
      "  inflating: freedomtech/images/validation/surfing_34.jpg  \n",
      "  inflating: freedomtech/images/validation/surfing_34.txt  \n",
      "  inflating: freedomtech/images/validation/surfing_35.jpg  \n",
      "  inflating: freedomtech/images/validation/surfing_35.txt  \n",
      "  inflating: freedomtech/images/validation/surfing_36.jpg  \n",
      "  inflating: freedomtech/images/validation/surfing_36.txt  \n",
      "  inflating: freedomtech/images/validation/surfing_37.jpg  \n",
      "  inflating: freedomtech/images/validation/surfing_37.txt  \n",
      "  inflating: freedomtech/images/validation/surfing_38.jpg  \n",
      "  inflating: freedomtech/images/validation/surfing_38.txt  \n",
      "  inflating: freedomtech/images/validation/surfing_39.jpg  \n",
      "  inflating: freedomtech/images/validation/surfing_39.txt  \n",
      "  inflating: freedomtech/images/validation/surfing_4.jpg  \n",
      "  inflating: freedomtech/images/validation/surfing_4.txt  \n",
      "  inflating: freedomtech/images/validation/surfing_40.jpg  \n",
      "  inflating: freedomtech/images/validation/surfing_40.txt  \n",
      "  inflating: freedomtech/images/validation/surfing_41.jpg  \n",
      "  inflating: freedomtech/images/validation/surfing_41.txt  \n",
      "  inflating: freedomtech/images/validation/surfing_42.jpg  \n",
      "  inflating: freedomtech/images/validation/surfing_42.txt  \n",
      "  inflating: freedomtech/images/validation/surfing_43.jpg  \n",
      "  inflating: freedomtech/images/validation/surfing_43.txt  \n",
      "  inflating: freedomtech/images/validation/surfing_44.jpg  \n",
      "  inflating: freedomtech/images/validation/surfing_44.txt  \n",
      "  inflating: freedomtech/images/validation/surfing_5.jpg  \n",
      "  inflating: freedomtech/images/validation/surfing_5.txt  \n",
      "  inflating: freedomtech/images/validation/surfing_6.jpg  \n",
      "  inflating: freedomtech/images/validation/surfing_6.txt  \n",
      "  inflating: freedomtech/images/validation/surfing_7.jpg  \n",
      "  inflating: freedomtech/images/validation/surfing_7.txt  \n",
      "  inflating: freedomtech/images/validation/surfing_8.jpg  \n",
      "  inflating: freedomtech/images/validation/surfing_8.txt  \n",
      "  inflating: freedomtech/images/validation/surfing_9.jpg  \n",
      "  inflating: freedomtech/images/validation/surfing_9.txt  \n",
      "   creating: freedomtech/labels/\n",
      "   creating: freedomtech/labels/training/\n",
      "  inflating: freedomtech/labels/training/surfing_1.jpg  \n",
      "  inflating: freedomtech/labels/training/surfing_1.txt  \n",
      "  inflating: freedomtech/labels/training/surfing_10.jpg  \n",
      "  inflating: freedomtech/labels/training/surfing_10.txt  \n",
      "  inflating: freedomtech/labels/training/surfing_11.jpg  \n",
      "  inflating: freedomtech/labels/training/surfing_11.txt  \n",
      "  inflating: freedomtech/labels/training/surfing_12.jpg  \n",
      "  inflating: freedomtech/labels/training/surfing_12.txt  \n",
      "  inflating: freedomtech/labels/training/surfing_13.jpg  \n",
      "  inflating: freedomtech/labels/training/surfing_13.txt  \n",
      "  inflating: freedomtech/labels/training/surfing_14.jpg  \n",
      "  inflating: freedomtech/labels/training/surfing_14.txt  \n",
      "  inflating: freedomtech/labels/training/surfing_15.jpg  \n",
      "  inflating: freedomtech/labels/training/surfing_15.txt  \n",
      "  inflating: freedomtech/labels/training/surfing_16.jpg  \n",
      "  inflating: freedomtech/labels/training/surfing_16.txt  \n",
      "  inflating: freedomtech/labels/training/surfing_17.jpg  \n",
      "  inflating: freedomtech/labels/training/surfing_17.txt  \n",
      "  inflating: freedomtech/labels/training/surfing_18.jpg  \n",
      "  inflating: freedomtech/labels/training/surfing_18.txt  \n",
      "  inflating: freedomtech/labels/training/surfing_19.jpg  \n",
      "  inflating: freedomtech/labels/training/surfing_19.txt  \n",
      "  inflating: freedomtech/labels/training/surfing_2.jpg  \n",
      "  inflating: freedomtech/labels/training/surfing_2.txt  \n",
      "  inflating: freedomtech/labels/training/surfing_20.jpg  \n",
      "  inflating: freedomtech/labels/training/surfing_20.txt  \n",
      "  inflating: freedomtech/labels/training/surfing_21.jpg  \n",
      "  inflating: freedomtech/labels/training/surfing_21.txt  \n",
      "  inflating: freedomtech/labels/training/surfing_22.jpg  \n",
      "  inflating: freedomtech/labels/training/surfing_22.txt  \n",
      "  inflating: freedomtech/labels/training/surfing_23.jpg  \n",
      "  inflating: freedomtech/labels/training/surfing_23.txt  \n",
      "  inflating: freedomtech/labels/training/surfing_24.jpg  \n",
      "  inflating: freedomtech/labels/training/surfing_24.txt  \n",
      "  inflating: freedomtech/labels/training/surfing_25.jpg  \n",
      "  inflating: freedomtech/labels/training/surfing_25.txt  \n",
      "  inflating: freedomtech/labels/training/surfing_26.jpg  \n",
      "  inflating: freedomtech/labels/training/surfing_26.txt  \n",
      "  inflating: freedomtech/labels/training/surfing_27.jpg  \n",
      "  inflating: freedomtech/labels/training/surfing_27.txt  \n",
      "  inflating: freedomtech/labels/training/surfing_28.jpg  \n",
      "  inflating: freedomtech/labels/training/surfing_28.txt  \n",
      "  inflating: freedomtech/labels/training/surfing_29.jpg  \n",
      "  inflating: freedomtech/labels/training/surfing_29.txt  \n",
      "  inflating: freedomtech/labels/training/surfing_3.jpg  \n",
      "  inflating: freedomtech/labels/training/surfing_3.txt  \n",
      "  inflating: freedomtech/labels/training/surfing_30.jpg  \n",
      "  inflating: freedomtech/labels/training/surfing_30.txt  \n",
      "  inflating: freedomtech/labels/training/surfing_31.jpg  \n",
      "  inflating: freedomtech/labels/training/surfing_31.txt  \n",
      "  inflating: freedomtech/labels/training/surfing_32.jpg  \n",
      "  inflating: freedomtech/labels/training/surfing_32.txt  \n",
      "  inflating: freedomtech/labels/training/surfing_33.jpg  \n",
      "  inflating: freedomtech/labels/training/surfing_33.txt  \n",
      "  inflating: freedomtech/labels/training/surfing_34.jpg  \n",
      "  inflating: freedomtech/labels/training/surfing_34.txt  \n",
      "  inflating: freedomtech/labels/training/surfing_35.jpg  \n",
      "  inflating: freedomtech/labels/training/surfing_35.txt  \n",
      "  inflating: freedomtech/labels/training/surfing_36.jpg  \n",
      "  inflating: freedomtech/labels/training/surfing_36.txt  \n",
      "  inflating: freedomtech/labels/training/surfing_37.jpg  \n",
      "  inflating: freedomtech/labels/training/surfing_37.txt  \n",
      "  inflating: freedomtech/labels/training/surfing_38.jpg  \n",
      "  inflating: freedomtech/labels/training/surfing_38.txt  \n",
      "  inflating: freedomtech/labels/training/surfing_39.jpg  \n",
      "  inflating: freedomtech/labels/training/surfing_39.txt  \n",
      "  inflating: freedomtech/labels/training/surfing_4.jpg  \n",
      "  inflating: freedomtech/labels/training/surfing_4.txt  \n",
      "  inflating: freedomtech/labels/training/surfing_40.jpg  \n",
      "  inflating: freedomtech/labels/training/surfing_40.txt  \n",
      "  inflating: freedomtech/labels/training/surfing_41.jpg  \n",
      "  inflating: freedomtech/labels/training/surfing_41.txt  \n",
      "  inflating: freedomtech/labels/training/surfing_42.jpg  \n",
      "  inflating: freedomtech/labels/training/surfing_42.txt  \n",
      "  inflating: freedomtech/labels/training/surfing_43.jpg  \n",
      "  inflating: freedomtech/labels/training/surfing_43.txt  \n",
      "  inflating: freedomtech/labels/training/surfing_44.jpg  \n",
      "  inflating: freedomtech/labels/training/surfing_44.txt  \n",
      "  inflating: freedomtech/labels/training/surfing_5.jpg  \n",
      "  inflating: freedomtech/labels/training/surfing_5.txt  \n",
      "  inflating: freedomtech/labels/training/surfing_6.jpg  \n",
      "  inflating: freedomtech/labels/training/surfing_6.txt  \n",
      "  inflating: freedomtech/labels/training/surfing_7.jpg  \n",
      "  inflating: freedomtech/labels/training/surfing_7.txt  \n",
      "  inflating: freedomtech/labels/training/surfing_8.jpg  \n",
      "  inflating: freedomtech/labels/training/surfing_8.txt  \n",
      "  inflating: freedomtech/labels/training/surfing_9.jpg  \n",
      "  inflating: freedomtech/labels/training/surfing_9.txt  \n",
      "   creating: freedomtech/labels/validation/\n",
      "  inflating: freedomtech/labels/validation/surfing_1.jpg  \n",
      "  inflating: freedomtech/labels/validation/surfing_1.txt  \n",
      "  inflating: freedomtech/labels/validation/surfing_10.jpg  \n",
      "  inflating: freedomtech/labels/validation/surfing_10.txt  \n",
      "  inflating: freedomtech/labels/validation/surfing_11.jpg  \n",
      "  inflating: freedomtech/labels/validation/surfing_11.txt  \n",
      "  inflating: freedomtech/labels/validation/surfing_12.jpg  \n",
      "  inflating: freedomtech/labels/validation/surfing_12.txt  \n",
      "  inflating: freedomtech/labels/validation/surfing_13.jpg  \n",
      "  inflating: freedomtech/labels/validation/surfing_13.txt  \n",
      "  inflating: freedomtech/labels/validation/surfing_14.jpg  \n",
      "  inflating: freedomtech/labels/validation/surfing_14.txt  \n",
      "  inflating: freedomtech/labels/validation/surfing_15.jpg  \n",
      "  inflating: freedomtech/labels/validation/surfing_15.txt  \n",
      "  inflating: freedomtech/labels/validation/surfing_16.jpg  \n",
      "  inflating: freedomtech/labels/validation/surfing_16.txt  \n",
      "  inflating: freedomtech/labels/validation/surfing_17.jpg  \n",
      "  inflating: freedomtech/labels/validation/surfing_17.txt  \n",
      "  inflating: freedomtech/labels/validation/surfing_18.jpg  \n",
      "  inflating: freedomtech/labels/validation/surfing_18.txt  \n",
      "  inflating: freedomtech/labels/validation/surfing_19.jpg  \n",
      "  inflating: freedomtech/labels/validation/surfing_19.txt  \n",
      "  inflating: freedomtech/labels/validation/surfing_2.jpg  \n",
      "  inflating: freedomtech/labels/validation/surfing_2.txt  \n",
      "  inflating: freedomtech/labels/validation/surfing_20.jpg  \n",
      "  inflating: freedomtech/labels/validation/surfing_20.txt  \n",
      "  inflating: freedomtech/labels/validation/surfing_21.jpg  \n",
      "  inflating: freedomtech/labels/validation/surfing_21.txt  \n",
      "  inflating: freedomtech/labels/validation/surfing_22.jpg  \n",
      "  inflating: freedomtech/labels/validation/surfing_22.txt  \n",
      "  inflating: freedomtech/labels/validation/surfing_23.jpg  \n",
      "  inflating: freedomtech/labels/validation/surfing_23.txt  \n",
      "  inflating: freedomtech/labels/validation/surfing_24.jpg  \n",
      "  inflating: freedomtech/labels/validation/surfing_24.txt  \n",
      "  inflating: freedomtech/labels/validation/surfing_25.jpg  \n",
      "  inflating: freedomtech/labels/validation/surfing_25.txt  \n",
      "  inflating: freedomtech/labels/validation/surfing_26.jpg  \n",
      "  inflating: freedomtech/labels/validation/surfing_26.txt  \n",
      "  inflating: freedomtech/labels/validation/surfing_27.jpg  \n",
      "  inflating: freedomtech/labels/validation/surfing_27.txt  \n",
      "  inflating: freedomtech/labels/validation/surfing_28.jpg  \n",
      "  inflating: freedomtech/labels/validation/surfing_28.txt  \n",
      "  inflating: freedomtech/labels/validation/surfing_29.jpg  \n",
      "  inflating: freedomtech/labels/validation/surfing_29.txt  \n",
      "  inflating: freedomtech/labels/validation/surfing_3.jpg  \n",
      "  inflating: freedomtech/labels/validation/surfing_3.txt  \n",
      "  inflating: freedomtech/labels/validation/surfing_30.jpg  \n",
      "  inflating: freedomtech/labels/validation/surfing_30.txt  \n",
      "  inflating: freedomtech/labels/validation/surfing_31.jpg  \n",
      "  inflating: freedomtech/labels/validation/surfing_31.txt  \n",
      "  inflating: freedomtech/labels/validation/surfing_32.jpg  \n",
      "  inflating: freedomtech/labels/validation/surfing_32.txt  \n",
      "  inflating: freedomtech/labels/validation/surfing_33.jpg  \n",
      "  inflating: freedomtech/labels/validation/surfing_33.txt  \n",
      "  inflating: freedomtech/labels/validation/surfing_34.jpg  \n",
      "  inflating: freedomtech/labels/validation/surfing_34.txt  \n",
      "  inflating: freedomtech/labels/validation/surfing_35.jpg  \n",
      "  inflating: freedomtech/labels/validation/surfing_35.txt  \n",
      "  inflating: freedomtech/labels/validation/surfing_36.jpg  \n",
      "  inflating: freedomtech/labels/validation/surfing_36.txt  \n",
      "  inflating: freedomtech/labels/validation/surfing_37.jpg  \n",
      "  inflating: freedomtech/labels/validation/surfing_37.txt  \n",
      "  inflating: freedomtech/labels/validation/surfing_38.jpg  \n",
      "  inflating: freedomtech/labels/validation/surfing_38.txt  \n",
      "  inflating: freedomtech/labels/validation/surfing_39.jpg  \n",
      "  inflating: freedomtech/labels/validation/surfing_39.txt  \n",
      "  inflating: freedomtech/labels/validation/surfing_4.jpg  \n",
      "  inflating: freedomtech/labels/validation/surfing_4.txt  \n",
      "  inflating: freedomtech/labels/validation/surfing_40.jpg  \n",
      "  inflating: freedomtech/labels/validation/surfing_40.txt  \n",
      "  inflating: freedomtech/labels/validation/surfing_41.jpg  \n",
      "  inflating: freedomtech/labels/validation/surfing_41.txt  \n",
      "  inflating: freedomtech/labels/validation/surfing_42.jpg  \n",
      "  inflating: freedomtech/labels/validation/surfing_42.txt  \n",
      "  inflating: freedomtech/labels/validation/surfing_43.jpg  \n",
      "  inflating: freedomtech/labels/validation/surfing_43.txt  \n",
      "  inflating: freedomtech/labels/validation/surfing_44.jpg  \n",
      "  inflating: freedomtech/labels/validation/surfing_44.txt  \n",
      "  inflating: freedomtech/labels/validation/surfing_5.jpg  \n",
      "  inflating: freedomtech/labels/validation/surfing_5.txt  \n",
      "  inflating: freedomtech/labels/validation/surfing_6.jpg  \n",
      "  inflating: freedomtech/labels/validation/surfing_6.txt  \n",
      "  inflating: freedomtech/labels/validation/surfing_7.jpg  \n",
      "  inflating: freedomtech/labels/validation/surfing_7.txt  \n",
      "  inflating: freedomtech/labels/validation/surfing_8.jpg  \n",
      "  inflating: freedomtech/labels/validation/surfing_8.txt  \n",
      "  inflating: freedomtech/labels/validation/surfing_9.jpg  \n",
      "  inflating: freedomtech/labels/validation/surfing_9.txt  \n"
     ]
    }
   ],
   "source": [
    "!mkdir {HOME}/datasets\n",
    "%cd {HOME}/datasets\n",
    "\n",
    "!unzip /content/gdrive/MyDrive/freedomtech.zip "
   ]
  },
  {
   "cell_type": "markdown",
   "metadata": {
    "id": "YUjFBKKqXa-u"
   },
   "source": [
    "## Custom Training"
   ]
  },
  {
   "cell_type": "code",
   "execution_count": null,
   "metadata": {
    "colab": {
     "base_uri": "https://localhost:8080/"
    },
    "executionInfo": {
     "elapsed": 741711,
     "status": "ok",
     "timestamp": 1680488405529,
     "user": {
      "displayName": "Freedom Tech",
      "userId": "03870511654783100627"
     },
     "user_tz": -330
    },
    "id": "D2YkphuiaE7_",
    "outputId": "4cce49b2-f676-4b3d-cb10-0b6a2de3e476"
   },
   "outputs": [
    {
     "name": "stdout",
     "output_type": "stream",
     "text": [
      "New https://pypi.org/project/ultralytics/8.3.115 available 😃 Update with 'pip install -U ultralytics'\n",
      "Ultralytics 8.3.0 🚀 Python-3.12.4 torch-2.4.1+cpu CPU (AMD Ryzen 7 6800HS with Radeon Graphics)\n",
      "\u001b[34m\u001b[1mengine\\trainer: \u001b[0mtask=detect, mode=train, model=yolov8s.pt, data=(rC:\\Users\\rguja\\OneDrive\\Desktop\\Helmet detection\\yolov8helmetdetection\\datasets\\data.yaml, epochs=100, time=None, patience=100, batch=16, imgsz=800, save=True, save_period=-1, cache=False, device=None, workers=8, project=None, name=train3, exist_ok=False, pretrained=True, optimizer=auto, verbose=True, seed=0, deterministic=True, single_cls=False, rect=False, cos_lr=False, close_mosaic=10, resume=False, amp=True, fraction=1.0, profile=False, freeze=None, multi_scale=False, overlap_mask=True, mask_ratio=4, dropout=0.0, val=True, split=val, save_json=False, save_hybrid=False, conf=None, iou=0.7, max_det=300, half=False, dnn=False, plots=True, source=None, vid_stride=1, stream_buffer=False, visualize=False, augment=False, agnostic_nms=False, classes=None, retina_masks=False, embed=None, show=False, save_frames=False, save_txt=False, save_conf=False, save_crop=False, show_labels=True, show_conf=True, show_boxes=True, line_width=None, format=torchscript, keras=False, optimize=False, int8=False, dynamic=False, simplify=True, opset=None, workspace=4, nms=False, lr0=0.01, lrf=0.01, momentum=0.937, weight_decay=0.0005, warmup_epochs=3.0, warmup_momentum=0.8, warmup_bias_lr=0.1, box=7.5, cls=0.5, dfl=1.5, pose=12.0, kobj=1.0, label_smoothing=0.0, nbs=64, hsv_h=0.015, hsv_s=0.7, hsv_v=0.4, degrees=0.0, translate=0.1, scale=0.5, shear=0.0, perspective=0.0, flipud=0.0, fliplr=0.5, bgr=0.0, mosaic=1.0, mixup=0.0, copy_paste=0.0, copy_paste_mode=flip, auto_augment=randaugment, erasing=0.4, crop_fraction=1.0, cfg=None, tracker=botsort.yaml, save_dir=runs\\detect\\train3\n"
     ]
    },
    {
     "name": "stderr",
     "output_type": "stream",
     "text": [
      "Traceback (most recent call last):\n",
      "  File \"C:\\Users\\rguja\\AppData\\Roaming\\Python\\Python312\\site-packages\\ultralytics\\engine\\trainer.py\", line 559, in get_dataset\n",
      "    data = check_det_dataset(self.args.data)\n",
      "           ^^^^^^^^^^^^^^^^^^^^^^^^^^^^^^^^^\n",
      "  File \"C:\\Users\\rguja\\AppData\\Roaming\\Python\\Python312\\site-packages\\ultralytics\\data\\utils.py\", line 268, in check_det_dataset\n",
      "    file = check_file(dataset)\n",
      "           ^^^^^^^^^^^^^^^^^^^\n",
      "  File \"C:\\Users\\rguja\\AppData\\Roaming\\Python\\Python312\\site-packages\\ultralytics\\utils\\checks.py\", line 517, in check_file\n",
      "    raise FileNotFoundError(f\"'{file}' does not exist\")\n",
      "FileNotFoundError: '(rC:\\Users\\rguja\\OneDrive\\Desktop\\Helmet detection\\yolov8helmetdetection\\datasets\\data.yaml' does not exist\n",
      "\n",
      "The above exception was the direct cause of the following exception:\n",
      "\n",
      "Traceback (most recent call last):\n",
      "  File \"<frozen runpy>\", line 198, in _run_module_as_main\n",
      "  File \"<frozen runpy>\", line 88, in _run_code\n",
      "  File \"c:\\Users\\rguja\\AppData\\Roaming\\Python\\Python312\\Scripts\\yolo.exe\\__main__.py\", line 7, in <module>\n",
      "  File \"C:\\Users\\rguja\\AppData\\Roaming\\Python\\Python312\\site-packages\\ultralytics\\cfg\\__init__.py\", line 831, in entrypoint\n",
      "    getattr(model, mode)(**overrides)  # default args from model\n",
      "    ^^^^^^^^^^^^^^^^^^^^^^^^^^^^^^^^^\n",
      "  File \"C:\\Users\\rguja\\AppData\\Roaming\\Python\\Python312\\site-packages\\ultralytics\\engine\\model.py\", line 797, in train\n",
      "    self.trainer = (trainer or self._smart_load(\"trainer\"))(overrides=args, _callbacks=self.callbacks)\n",
      "                   ^^^^^^^^^^^^^^^^^^^^^^^^^^^^^^^^^^^^^^^^^^^^^^^^^^^^^^^^^^^^^^^^^^^^^^^^^^^^^^^^^^^\n",
      "  File \"C:\\Users\\rguja\\AppData\\Roaming\\Python\\Python312\\site-packages\\ultralytics\\engine\\trainer.py\", line 133, in __init__\n",
      "    self.trainset, self.testset = self.get_dataset()\n",
      "                                  ^^^^^^^^^^^^^^^^^^\n",
      "  File \"C:\\Users\\rguja\\AppData\\Roaming\\Python\\Python312\\site-packages\\ultralytics\\engine\\trainer.py\", line 563, in get_dataset\n",
      "    raise RuntimeError(emojis(f\"Dataset '{clean_url(self.args.data)}' error ❌ {e}\")) from e\n",
      "RuntimeError: Dataset '(rC://Users/rguja/OneDrive/Desktop/Helmet detection/yolov8helmetdetection/datasets/data.yaml' error  '(rC:\\Users\\rguja\\OneDrive\\Desktop\\Helmet detection\\yolov8helmetdetection\\datasets\\data.yaml' does not exist\n"
     ]
    },
    {
     "ename": "",
     "evalue": "",
     "output_type": "error",
     "traceback": [
      "\u001b[1;31mThe Kernel crashed while executing code in the current cell or a previous cell. \n",
      "\u001b[1;31mPlease review the code in the cell(s) to identify a possible cause of the failure. \n",
      "\u001b[1;31mClick <a href='https://aka.ms/vscodeJupyterKernelCrash'>here</a> for more info. \n",
      "\u001b[1;31mView Jupyter <a href='command:jupyter.viewOutput'>log</a> for further details."
     ]
    }
   ],
   "source": [
    "\n",
    "\n",
    "!yolo task=detect mode=train model=yolov8s.pt data=(r\"C:\\Users\\rguja\\OneDrive\\Desktop\\Helmet detection\\yolov8helmetdetection\\datasets\\data.yaml\" epochs=100 imgsz=800 plots=True"
   ]
  }
 ],
 "metadata": {
  "accelerator": "GPU",
  "colab": {
   "provenance": [
    {
     "file_id": "1XabZtpjdJayBue3Ogr7yGCDaGCjIk460",
     "timestamp": 1680488836995
    }
   ]
  },
  "gpuClass": "standard",
  "kernelspec": {
   "display_name": "Python 3",
   "name": "python3"
  },
  "language_info": {
   "codemirror_mode": {
    "name": "ipython",
    "version": 3
   },
   "file_extension": ".py",
   "mimetype": "text/x-python",
   "name": "python",
   "nbconvert_exporter": "python",
   "pygments_lexer": "ipython3",
   "version": "3.12.4"
  }
 },
 "nbformat": 4,
 "nbformat_minor": 0
}
